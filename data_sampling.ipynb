{
 "cells": [
  {
   "cell_type": "code",
   "execution_count": 164,
   "id": "814ec086",
   "metadata": {},
   "outputs": [],
   "source": [
    "import time\n",
    "import rasterio\n",
    "import numpy as np\n",
    "import math\n",
    "from pathlib import Path \n",
    "from osgeo import gdal\n",
    "import glob\n",
    "import geopandas as gpd\n",
    "import pandas as pd\n",
    "import sys"
   ]
  },
  {
   "cell_type": "markdown",
   "id": "9f46994c",
   "metadata": {},
   "source": [
    "# 0. Data Check\n",
    "## treepoint data list\n",
    "- manup_treepoint.shp\n",
    "- mandown_treepoint.shp\n",
    "- br_rest1_treepoint.shp\n",
    "- br_rest2_treepoint.shp"
   ]
  },
  {
   "cell_type": "code",
   "execution_count": 165,
   "id": "b170fac0",
   "metadata": {},
   "outputs": [],
   "source": [
    "tp_up = gpd.GeoDataFrame.from_file(\"tree_points/manup_treepoint.shp\")\n",
    "tp_down = gpd.GeoDataFrame.from_file(\"tree_points/mandown_treepoint.shp\")\n",
    "tp_br1 = gpd.GeoDataFrame.from_file(\"tree_points/br_rest1_treepoint.shp\")\n",
    "tp_br2 = gpd.GeoDataFrame.from_file(\"tree_points/br_rest2_treepoint.shp\")\n",
    "tpall = gpd.GeoDataFrame( pd.concat( [tp_up, tp_down, tp_br1, tp_br2], ignore_index=True) )"
   ]
  },
  {
   "cell_type": "code",
   "execution_count": 166,
   "id": "53b19692",
   "metadata": {},
   "outputs": [],
   "source": [
    "# print(tp_up.info())\n",
    "# print(tp_down.info())\n",
    "# print(tp_br1.info())\n",
    "# print(tp_br2.info())\n",
    "# print(tpall.info())"
   ]
  },
  {
   "cell_type": "markdown",
   "id": "85ac2efd",
   "metadata": {},
   "source": [
    "## subclass change\n",
    "- tpall (up, down, br) 모든 데이터 합쳐서 시작\n",
    "- up[0:28273], down[28273:52401], br1[52401:74639], br2[74639:85799] (*종료점은 포함x)"
   ]
  },
  {
   "cell_type": "code",
   "execution_count": 167,
   "id": "411cd7a9",
   "metadata": {},
   "outputs": [
    {
     "name": "stdout",
     "output_type": "stream",
     "text": [
      "(85799, 1)       subclass\n",
      "0            1\n",
      "1            2\n",
      "2            1\n",
      "3            2\n",
      "4            2\n",
      "...        ...\n",
      "85794        1\n",
      "85795        6\n",
      "85796        2\n",
      "85797        1\n",
      "85798        3\n",
      "\n",
      "[85799 rows x 1 columns]\n",
      "<class 'geopandas.geodataframe.GeoDataFrame'>\n",
      "RangeIndex: 85799 entries, 0 to 85798\n",
      "Data columns (total 2 columns):\n",
      " #   Column    Non-Null Count  Dtype   \n",
      "---  ------    --------------  -----   \n",
      " 0   geometry  85799 non-null  geometry\n",
      " 1   subclass  85799 non-null  object  \n",
      "dtypes: geometry(1), object(1)\n",
      "memory usage: 1.3+ MB\n",
      "None\n"
     ]
    }
   ],
   "source": [
    "#### 그냥 일단 합쳐서 만들기\n",
    "# replace with *\n",
    "tpall_sc = tpall['subclass'].fillna('*')\n",
    "\n",
    "# subclass string to int\n",
    "tpall_sc = tpall_sc.to_frame() # 열 하나만 추출하면 series로 type 바뀌어서 다시 dataframe으로 바꿔줘야 함.\n",
    "sc_list = {'subclass':{'Rosidae':'1', 'Hamamelididae':'2', 'Asteridae':'3',\n",
    "                           'Dilleniidae':'4', 'Magnoliidae':'5', '*':'6'}}\n",
    "tpall_sc = tpall_sc.replace(sc_list) # sc_list의 내용을 (tp_up_sc)에 대체해라.\n",
    "print(f'{tpall_sc.shape} {tpall_sc}')\n",
    "    \n",
    "# change .. lat이랑 long을 넣냐 안넣냐..\n",
    "tpall.drop([\"subclass\", \"GenusSpeci\", \"OBJECTID\", \"Lat\", \"Long\"], axis = 1, inplace=True)\n",
    "tpall = pd.concat([tpall, tpall_sc], axis = 1) #tpall_sc 먼저 쓰면 type이 dataframe으로 바뀌어서 포인트 샘플링을 못함. tpall 먼저 써야함.\n",
    "print(tpall.info())"
   ]
  },
  {
   "cell_type": "code",
   "execution_count": 168,
   "id": "4814d943",
   "metadata": {},
   "outputs": [
    {
     "data": {
      "text/plain": [
       "geopandas.geodataframe.GeoDataFrame"
      ]
     },
     "execution_count": 168,
     "metadata": {},
     "output_type": "execute_result"
    }
   ],
   "source": [
    "type(tpall)"
   ]
  },
  {
   "cell_type": "markdown",
   "id": "08aea9ef",
   "metadata": {},
   "source": [
    "# 1. Point Sampling"
   ]
  },
  {
   "cell_type": "code",
   "execution_count": 169,
   "id": "ee5fda2a",
   "metadata": {},
   "outputs": [],
   "source": [
    "# file에 영상 넣기 # NDVIup_file, NDVIdown_file, NDVIbr_file\n",
    "for i in ['NDVI', 'SBI', 'GVI', 'YVI', 'WBI']:\n",
    "    for j in ['up', 'down', 'br']:\n",
    "        globals()[f'{i}{j}_file'] = '../KOMPSAT 위성영상/데이터 전처리/4. data/'+j+'/'+i+'.tif'\n",
    "        globals()[f'{i}{j}_src'] = rasterio.open(globals()[f'{i}{j}_file'])"
   ]
  },
  {
   "cell_type": "code",
   "execution_count": 170,
   "id": "638f9432",
   "metadata": {},
   "outputs": [],
   "source": [
    "## 반복변수명과 값 확인\n",
    "# for i in globals():\n",
    "#     if i[-4:] == 'file':\n",
    "#         print(f'{i}: {globals()[i]}')\n",
    "#     elif i[-3:] == 'src':\n",
    "#         print(f'{i}: {globals()[i]}')\n",
    "#     else:\n",
    "#         pass"
   ]
  },
  {
   "cell_type": "code",
   "execution_count": 171,
   "id": "29712267",
   "metadata": {},
   "outputs": [
    {
     "name": "stdout",
     "output_type": "stream",
     "text": [
      "[28273, 24128, 22238, 11160]\n"
     ]
    }
   ],
   "source": [
    "# 각 파일의 데이터 개수 세기\n",
    "datalen = [len(tp_up), len(tp_down), len(tp_br1), len(tp_br2)]\n",
    "print(datalen)"
   ]
  },
  {
   "cell_type": "code",
   "execution_count": 172,
   "id": "09558e06",
   "metadata": {},
   "outputs": [],
   "source": [
    "# 파일별로 tpall dataframe에 값 입력하기 (NDVIup, NDVIdown, NDVIbr)\n",
    "# up[0:28273], down[28273:52401], br1[52401:74639], br2[74639:85799] (*종료점은 포함x)\n",
    "\n",
    "## 동적할당...이 필요한 것 같아서ㅜㅜ 강의 듣고 다시 해보든가 해야할 듯.. 일단은 또 복붙..!\n",
    "\n",
    "# for i in ['up', 'down', 'br']:\n",
    "#     tpall[Path(globals()[f'NDVI{i}_file']).stem] = [x for x in globals()[f'NDVI{i}_src'](coord_list)] # 포인트 샘플링\n",
    "#     tpall[Path(globals()[f'NDVI{i}_file']).stem] = tpall[Path(globals()[f'NDVI{i}_file']).stem].astype('float64')"
   ]
  },
  {
   "cell_type": "code",
   "execution_count": 173,
   "id": "a1748857",
   "metadata": {},
   "outputs": [
    {
     "data": {
      "text/html": [
       "<div>\n",
       "<style scoped>\n",
       "    .dataframe tbody tr th:only-of-type {\n",
       "        vertical-align: middle;\n",
       "    }\n",
       "\n",
       "    .dataframe tbody tr th {\n",
       "        vertical-align: top;\n",
       "    }\n",
       "\n",
       "    .dataframe thead th {\n",
       "        text-align: right;\n",
       "    }\n",
       "</style>\n",
       "<table border=\"1\" class=\"dataframe\">\n",
       "  <thead>\n",
       "    <tr style=\"text-align: right;\">\n",
       "      <th></th>\n",
       "      <th>geometry</th>\n",
       "      <th>subclass</th>\n",
       "    </tr>\n",
       "  </thead>\n",
       "  <tbody>\n",
       "    <tr>\n",
       "      <th>52401</th>\n",
       "      <td>POINT (-73.92916 40.61451)</td>\n",
       "      <td>2</td>\n",
       "    </tr>\n",
       "    <tr>\n",
       "      <th>52402</th>\n",
       "      <td>POINT (-73.93893 40.61036)</td>\n",
       "      <td>3</td>\n",
       "    </tr>\n",
       "    <tr>\n",
       "      <th>52403</th>\n",
       "      <td>POINT (-73.92881 40.62688)</td>\n",
       "      <td>2</td>\n",
       "    </tr>\n",
       "    <tr>\n",
       "      <th>52404</th>\n",
       "      <td>POINT (-73.92100 40.61747)</td>\n",
       "      <td>1</td>\n",
       "    </tr>\n",
       "    <tr>\n",
       "      <th>52405</th>\n",
       "      <td>POINT (-73.92101 40.61761)</td>\n",
       "      <td>1</td>\n",
       "    </tr>\n",
       "    <tr>\n",
       "      <th>...</th>\n",
       "      <td>...</td>\n",
       "      <td>...</td>\n",
       "    </tr>\n",
       "    <tr>\n",
       "      <th>85794</th>\n",
       "      <td>POINT (-73.89033 40.65515)</td>\n",
       "      <td>1</td>\n",
       "    </tr>\n",
       "    <tr>\n",
       "      <th>85795</th>\n",
       "      <td>POINT (-73.90517 40.64284)</td>\n",
       "      <td>6</td>\n",
       "    </tr>\n",
       "    <tr>\n",
       "      <th>85796</th>\n",
       "      <td>POINT (-73.90518 40.64321)</td>\n",
       "      <td>2</td>\n",
       "    </tr>\n",
       "    <tr>\n",
       "      <th>85797</th>\n",
       "      <td>POINT (-73.89036 40.65520)</td>\n",
       "      <td>1</td>\n",
       "    </tr>\n",
       "    <tr>\n",
       "      <th>85798</th>\n",
       "      <td>POINT (-73.90396 40.64060)</td>\n",
       "      <td>3</td>\n",
       "    </tr>\n",
       "  </tbody>\n",
       "</table>\n",
       "<p>33398 rows × 2 columns</p>\n",
       "</div>"
      ],
      "text/plain": [
       "                         geometry subclass\n",
       "52401  POINT (-73.92916 40.61451)        2\n",
       "52402  POINT (-73.93893 40.61036)        3\n",
       "52403  POINT (-73.92881 40.62688)        2\n",
       "52404  POINT (-73.92100 40.61747)        1\n",
       "52405  POINT (-73.92101 40.61761)        1\n",
       "...                           ...      ...\n",
       "85794  POINT (-73.89033 40.65515)        1\n",
       "85795  POINT (-73.90517 40.64284)        6\n",
       "85796  POINT (-73.90518 40.64321)        2\n",
       "85797  POINT (-73.89036 40.65520)        1\n",
       "85798  POINT (-73.90396 40.64060)        3\n",
       "\n",
       "[33398 rows x 2 columns]"
      ]
     },
     "execution_count": 173,
     "metadata": {},
     "output_type": "execute_result"
    }
   ],
   "source": [
    "tpup = tpall[:datalen[0]]\n",
    "tpdown = tpall[datalen[0]:datalen[0]+datalen[1]]\n",
    "tpbr = tpall[datalen[0]+datalen[1]:]\n",
    "tpbr"
   ]
  },
  {
   "cell_type": "code",
   "execution_count": 174,
   "id": "19ecf624",
   "metadata": {},
   "outputs": [
    {
     "name": "stdout",
     "output_type": "stream",
     "text": [
      "28273, 24128, 33398\n"
     ]
    }
   ],
   "source": [
    "# just NDVI point sampling  # 포인트의 좌표를 리스트로 추출\n",
    "coord_uplist = [(x,y) for x,y in zip(tpup['geometry'].x , tpup['geometry'].y)] \n",
    "coord_downlist = [(x,y) for x,y in zip(tpdown['geometry'].x , tpdown['geometry'].y)] \n",
    "coord_brlist = [(x,y) for x,y in zip(tpbr['geometry'].x , tpbr['geometry'].y)] \n",
    "print(f'{len(coord_uplist)}, {len(coord_downlist)}, {len(coord_brlist)}')"
   ]
  },
  {
   "cell_type": "code",
   "execution_count": 175,
   "id": "cf629d08",
   "metadata": {},
   "outputs": [
    {
     "name": "stderr",
     "output_type": "stream",
     "text": [
      "C:\\Users\\admin\\anaconda3\\envs\\sprout38\\lib\\site-packages\\geopandas\\geodataframe.py:1472: SettingWithCopyWarning: \n",
      "A value is trying to be set on a copy of a slice from a DataFrame.\n",
      "Try using .loc[row_indexer,col_indexer] = value instead\n",
      "\n",
      "See the caveats in the documentation: https://pandas.pydata.org/pandas-docs/stable/user_guide/indexing.html#returning-a-view-versus-a-copy\n",
      "  super().__setitem__(key, value)\n",
      "C:\\Users\\admin\\anaconda3\\envs\\sprout38\\lib\\site-packages\\geopandas\\geodataframe.py:1472: SettingWithCopyWarning: \n",
      "A value is trying to be set on a copy of a slice from a DataFrame.\n",
      "Try using .loc[row_indexer,col_indexer] = value instead\n",
      "\n",
      "See the caveats in the documentation: https://pandas.pydata.org/pandas-docs/stable/user_guide/indexing.html#returning-a-view-versus-a-copy\n",
      "  super().__setitem__(key, value)\n",
      "C:\\Users\\admin\\anaconda3\\envs\\sprout38\\lib\\site-packages\\geopandas\\geodataframe.py:1472: SettingWithCopyWarning: \n",
      "A value is trying to be set on a copy of a slice from a DataFrame.\n",
      "Try using .loc[row_indexer,col_indexer] = value instead\n",
      "\n",
      "See the caveats in the documentation: https://pandas.pydata.org/pandas-docs/stable/user_guide/indexing.html#returning-a-view-versus-a-copy\n",
      "  super().__setitem__(key, value)\n"
     ]
    },
    {
     "data": {
      "text/html": [
       "<div>\n",
       "<style scoped>\n",
       "    .dataframe tbody tr th:only-of-type {\n",
       "        vertical-align: middle;\n",
       "    }\n",
       "\n",
       "    .dataframe tbody tr th {\n",
       "        vertical-align: top;\n",
       "    }\n",
       "\n",
       "    .dataframe thead th {\n",
       "        text-align: right;\n",
       "    }\n",
       "</style>\n",
       "<table border=\"1\" class=\"dataframe\">\n",
       "  <thead>\n",
       "    <tr style=\"text-align: right;\">\n",
       "      <th></th>\n",
       "      <th>geometry</th>\n",
       "      <th>subclass</th>\n",
       "      <th>NDVI</th>\n",
       "    </tr>\n",
       "  </thead>\n",
       "  <tbody>\n",
       "    <tr>\n",
       "      <th>0</th>\n",
       "      <td>POINT (-73.95018 40.80481)</td>\n",
       "      <td>1</td>\n",
       "      <td>0.061114</td>\n",
       "    </tr>\n",
       "    <tr>\n",
       "      <th>1</th>\n",
       "      <td>POINT (-73.95173 40.80921)</td>\n",
       "      <td>2</td>\n",
       "      <td>-0.068959</td>\n",
       "    </tr>\n",
       "    <tr>\n",
       "      <th>2</th>\n",
       "      <td>POINT (-73.94942 40.80449)</td>\n",
       "      <td>1</td>\n",
       "      <td>-0.001804</td>\n",
       "    </tr>\n",
       "    <tr>\n",
       "      <th>3</th>\n",
       "      <td>POINT (-73.95062 40.80500)</td>\n",
       "      <td>2</td>\n",
       "      <td>0.038803</td>\n",
       "    </tr>\n",
       "    <tr>\n",
       "      <th>4</th>\n",
       "      <td>POINT (-73.95038 40.80490)</td>\n",
       "      <td>2</td>\n",
       "      <td>0.227972</td>\n",
       "    </tr>\n",
       "    <tr>\n",
       "      <th>...</th>\n",
       "      <td>...</td>\n",
       "      <td>...</td>\n",
       "      <td>...</td>\n",
       "    </tr>\n",
       "    <tr>\n",
       "      <th>85794</th>\n",
       "      <td>POINT (-73.89033 40.65515)</td>\n",
       "      <td>1</td>\n",
       "      <td>0.092050</td>\n",
       "    </tr>\n",
       "    <tr>\n",
       "      <th>85795</th>\n",
       "      <td>POINT (-73.90517 40.64284)</td>\n",
       "      <td>6</td>\n",
       "      <td>0.148645</td>\n",
       "    </tr>\n",
       "    <tr>\n",
       "      <th>85796</th>\n",
       "      <td>POINT (-73.90518 40.64321)</td>\n",
       "      <td>2</td>\n",
       "      <td>0.002555</td>\n",
       "    </tr>\n",
       "    <tr>\n",
       "      <th>85797</th>\n",
       "      <td>POINT (-73.89036 40.65520)</td>\n",
       "      <td>1</td>\n",
       "      <td>0.124759</td>\n",
       "    </tr>\n",
       "    <tr>\n",
       "      <th>85798</th>\n",
       "      <td>POINT (-73.90396 40.64060)</td>\n",
       "      <td>3</td>\n",
       "      <td>0.022080</td>\n",
       "    </tr>\n",
       "  </tbody>\n",
       "</table>\n",
       "<p>85799 rows × 3 columns</p>\n",
       "</div>"
      ],
      "text/plain": [
       "                         geometry subclass      NDVI\n",
       "0      POINT (-73.95018 40.80481)        1  0.061114\n",
       "1      POINT (-73.95173 40.80921)        2 -0.068959\n",
       "2      POINT (-73.94942 40.80449)        1 -0.001804\n",
       "3      POINT (-73.95062 40.80500)        2  0.038803\n",
       "4      POINT (-73.95038 40.80490)        2  0.227972\n",
       "...                           ...      ...       ...\n",
       "85794  POINT (-73.89033 40.65515)        1  0.092050\n",
       "85795  POINT (-73.90517 40.64284)        6  0.148645\n",
       "85796  POINT (-73.90518 40.64321)        2  0.002555\n",
       "85797  POINT (-73.89036 40.65520)        1  0.124759\n",
       "85798  POINT (-73.90396 40.64060)        3  0.022080\n",
       "\n",
       "[85799 rows x 3 columns]"
      ]
     },
     "execution_count": 175,
     "metadata": {},
     "output_type": "execute_result"
    }
   ],
   "source": [
    "tpup[Path(NDVIup_file).stem] = [x for x in NDVIup_src.sample(coord_uplist)] # 포인트 샘플링\n",
    "tpup[Path(NDVIup_file).stem] = tpup[Path(NDVIup_file).stem].astype('float64')\n",
    "\n",
    "tpdown[Path(NDVIdown_file).stem] = [x for x in NDVIdown_src.sample(coord_downlist)] # 포인트 샘플링\n",
    "tpdown[Path(NDVIdown_file).stem] = tpdown[Path(NDVIdown_file).stem].astype('float64')\n",
    "\n",
    "tpbr[Path(NDVIbr_file).stem] = [x for x in NDVIbr_src.sample(coord_brlist)] # 포인트 샘플링\n",
    "tpbr[Path(NDVIbr_file).stem] = tpbr[Path(NDVIbr_file).stem].astype('float64')\n",
    "\n",
    "tpall = pd.concat([tpup, tpdown, tpbr])\n",
    "tpall"
   ]
  },
  {
   "cell_type": "code",
   "execution_count": 178,
   "id": "fea79f09",
   "metadata": {},
   "outputs": [
    {
     "data": {
      "text/html": [
       "<div>\n",
       "<style scoped>\n",
       "    .dataframe tbody tr th:only-of-type {\n",
       "        vertical-align: middle;\n",
       "    }\n",
       "\n",
       "    .dataframe tbody tr th {\n",
       "        vertical-align: top;\n",
       "    }\n",
       "\n",
       "    .dataframe thead th {\n",
       "        text-align: right;\n",
       "    }\n",
       "</style>\n",
       "<table border=\"1\" class=\"dataframe\">\n",
       "  <thead>\n",
       "    <tr style=\"text-align: right;\">\n",
       "      <th></th>\n",
       "      <th>geometry</th>\n",
       "      <th>subclass</th>\n",
       "      <th>NDVI</th>\n",
       "    </tr>\n",
       "  </thead>\n",
       "  <tbody>\n",
       "    <tr>\n",
       "      <th>0</th>\n",
       "      <td>POINT (-73.95018 40.80481)</td>\n",
       "      <td>1</td>\n",
       "      <td>0.061114</td>\n",
       "    </tr>\n",
       "    <tr>\n",
       "      <th>1</th>\n",
       "      <td>POINT (-73.95173 40.80921)</td>\n",
       "      <td>2</td>\n",
       "      <td>-0.068959</td>\n",
       "    </tr>\n",
       "    <tr>\n",
       "      <th>2</th>\n",
       "      <td>POINT (-73.94942 40.80449)</td>\n",
       "      <td>1</td>\n",
       "      <td>-0.001804</td>\n",
       "    </tr>\n",
       "    <tr>\n",
       "      <th>3</th>\n",
       "      <td>POINT (-73.95062 40.80500)</td>\n",
       "      <td>2</td>\n",
       "      <td>0.038803</td>\n",
       "    </tr>\n",
       "    <tr>\n",
       "      <th>4</th>\n",
       "      <td>POINT (-73.95038 40.80490)</td>\n",
       "      <td>2</td>\n",
       "      <td>0.227972</td>\n",
       "    </tr>\n",
       "    <tr>\n",
       "      <th>...</th>\n",
       "      <td>...</td>\n",
       "      <td>...</td>\n",
       "      <td>...</td>\n",
       "    </tr>\n",
       "    <tr>\n",
       "      <th>85794</th>\n",
       "      <td>POINT (-73.89033 40.65515)</td>\n",
       "      <td>1</td>\n",
       "      <td>0.092050</td>\n",
       "    </tr>\n",
       "    <tr>\n",
       "      <th>85795</th>\n",
       "      <td>POINT (-73.90517 40.64284)</td>\n",
       "      <td>6</td>\n",
       "      <td>0.148645</td>\n",
       "    </tr>\n",
       "    <tr>\n",
       "      <th>85796</th>\n",
       "      <td>POINT (-73.90518 40.64321)</td>\n",
       "      <td>2</td>\n",
       "      <td>0.002555</td>\n",
       "    </tr>\n",
       "    <tr>\n",
       "      <th>85797</th>\n",
       "      <td>POINT (-73.89036 40.65520)</td>\n",
       "      <td>1</td>\n",
       "      <td>0.124759</td>\n",
       "    </tr>\n",
       "    <tr>\n",
       "      <th>85798</th>\n",
       "      <td>POINT (-73.90396 40.64060)</td>\n",
       "      <td>3</td>\n",
       "      <td>0.022080</td>\n",
       "    </tr>\n",
       "  </tbody>\n",
       "</table>\n",
       "<p>85799 rows × 3 columns</p>\n",
       "</div>"
      ],
      "text/plain": [
       "                         geometry subclass      NDVI\n",
       "0      POINT (-73.95018 40.80481)        1  0.061114\n",
       "1      POINT (-73.95173 40.80921)        2 -0.068959\n",
       "2      POINT (-73.94942 40.80449)        1 -0.001804\n",
       "3      POINT (-73.95062 40.80500)        2  0.038803\n",
       "4      POINT (-73.95038 40.80490)        2  0.227972\n",
       "...                           ...      ...       ...\n",
       "85794  POINT (-73.89033 40.65515)        1  0.092050\n",
       "85795  POINT (-73.90517 40.64284)        6  0.148645\n",
       "85796  POINT (-73.90518 40.64321)        2  0.002555\n",
       "85797  POINT (-73.89036 40.65520)        1  0.124759\n",
       "85798  POINT (-73.90396 40.64060)        3  0.022080\n",
       "\n",
       "[85799 rows x 3 columns]"
      ]
     },
     "execution_count": 178,
     "metadata": {},
     "output_type": "execute_result"
    }
   ],
   "source": [
    "tpall"
   ]
  },
  {
   "cell_type": "code",
   "execution_count": 182,
   "id": "f9e87b09",
   "metadata": {},
   "outputs": [
    {
     "data": {
      "text/html": [
       "<div>\n",
       "<style scoped>\n",
       "    .dataframe tbody tr th:only-of-type {\n",
       "        vertical-align: middle;\n",
       "    }\n",
       "\n",
       "    .dataframe tbody tr th {\n",
       "        vertical-align: top;\n",
       "    }\n",
       "\n",
       "    .dataframe thead th {\n",
       "        text-align: right;\n",
       "    }\n",
       "</style>\n",
       "<table border=\"1\" class=\"dataframe\">\n",
       "  <thead>\n",
       "    <tr style=\"text-align: right;\">\n",
       "      <th></th>\n",
       "      <th>geometry</th>\n",
       "      <th>subclass</th>\n",
       "      <th>NDVI</th>\n",
       "    </tr>\n",
       "  </thead>\n",
       "  <tbody>\n",
       "    <tr>\n",
       "      <th>0</th>\n",
       "      <td>POINT (-73.95018 40.80481)</td>\n",
       "      <td>1</td>\n",
       "      <td>0.061114</td>\n",
       "    </tr>\n",
       "    <tr>\n",
       "      <th>1</th>\n",
       "      <td>POINT (-73.95173 40.80921)</td>\n",
       "      <td>2</td>\n",
       "      <td>-0.068959</td>\n",
       "    </tr>\n",
       "    <tr>\n",
       "      <th>2</th>\n",
       "      <td>POINT (-73.94942 40.80449)</td>\n",
       "      <td>1</td>\n",
       "      <td>-0.001804</td>\n",
       "    </tr>\n",
       "    <tr>\n",
       "      <th>3</th>\n",
       "      <td>POINT (-73.95062 40.80500)</td>\n",
       "      <td>2</td>\n",
       "      <td>0.038803</td>\n",
       "    </tr>\n",
       "    <tr>\n",
       "      <th>5</th>\n",
       "      <td>POINT (-73.95074 40.80505)</td>\n",
       "      <td>1</td>\n",
       "      <td>0.164838</td>\n",
       "    </tr>\n",
       "    <tr>\n",
       "      <th>...</th>\n",
       "      <td>...</td>\n",
       "      <td>...</td>\n",
       "      <td>...</td>\n",
       "    </tr>\n",
       "    <tr>\n",
       "      <th>85794</th>\n",
       "      <td>POINT (-73.89033 40.65515)</td>\n",
       "      <td>1</td>\n",
       "      <td>0.092050</td>\n",
       "    </tr>\n",
       "    <tr>\n",
       "      <th>85795</th>\n",
       "      <td>POINT (-73.90517 40.64284)</td>\n",
       "      <td>6</td>\n",
       "      <td>0.148645</td>\n",
       "    </tr>\n",
       "    <tr>\n",
       "      <th>85796</th>\n",
       "      <td>POINT (-73.90518 40.64321)</td>\n",
       "      <td>2</td>\n",
       "      <td>0.002555</td>\n",
       "    </tr>\n",
       "    <tr>\n",
       "      <th>85797</th>\n",
       "      <td>POINT (-73.89036 40.65520)</td>\n",
       "      <td>1</td>\n",
       "      <td>0.124759</td>\n",
       "    </tr>\n",
       "    <tr>\n",
       "      <th>85798</th>\n",
       "      <td>POINT (-73.90396 40.64060)</td>\n",
       "      <td>3</td>\n",
       "      <td>0.022080</td>\n",
       "    </tr>\n",
       "  </tbody>\n",
       "</table>\n",
       "<p>29750 rows × 3 columns</p>\n",
       "</div>"
      ],
      "text/plain": [
       "                         geometry subclass      NDVI\n",
       "0      POINT (-73.95018 40.80481)        1  0.061114\n",
       "1      POINT (-73.95173 40.80921)        2 -0.068959\n",
       "2      POINT (-73.94942 40.80449)        1 -0.001804\n",
       "3      POINT (-73.95062 40.80500)        2  0.038803\n",
       "5      POINT (-73.95074 40.80505)        1  0.164838\n",
       "...                           ...      ...       ...\n",
       "85794  POINT (-73.89033 40.65515)        1  0.092050\n",
       "85795  POINT (-73.90517 40.64284)        6  0.148645\n",
       "85796  POINT (-73.90518 40.64321)        2  0.002555\n",
       "85797  POINT (-73.89036 40.65520)        1  0.124759\n",
       "85798  POINT (-73.90396 40.64060)        3  0.022080\n",
       "\n",
       "[29750 rows x 3 columns]"
      ]
     },
     "execution_count": 182,
     "metadata": {},
     "output_type": "execute_result"
    }
   ],
   "source": [
    "## tpall에서 NDVI에 0값 확인... 근데 다른 소숫점은 확인이 안됨\n",
    "test = tpall[tpall['NDVI'] < 0.2]\n",
    "test"
   ]
  },
  {
   "cell_type": "markdown",
   "id": "c0d75e12",
   "metadata": {},
   "source": [
    "## 이상치 제거: NDVI < 0.2 삭제"
   ]
  },
  {
   "cell_type": "code",
   "execution_count": 183,
   "id": "07d61d41",
   "metadata": {},
   "outputs": [
    {
     "data": {
      "text/html": [
       "<div>\n",
       "<style scoped>\n",
       "    .dataframe tbody tr th:only-of-type {\n",
       "        vertical-align: middle;\n",
       "    }\n",
       "\n",
       "    .dataframe tbody tr th {\n",
       "        vertical-align: top;\n",
       "    }\n",
       "\n",
       "    .dataframe thead th {\n",
       "        text-align: right;\n",
       "    }\n",
       "</style>\n",
       "<table border=\"1\" class=\"dataframe\">\n",
       "  <thead>\n",
       "    <tr style=\"text-align: right;\">\n",
       "      <th></th>\n",
       "      <th>geometry</th>\n",
       "      <th>subclass</th>\n",
       "      <th>NDVI</th>\n",
       "    </tr>\n",
       "  </thead>\n",
       "  <tbody>\n",
       "    <tr>\n",
       "      <th>4</th>\n",
       "      <td>POINT (-73.95038 40.80490)</td>\n",
       "      <td>2</td>\n",
       "      <td>0.227972</td>\n",
       "    </tr>\n",
       "    <tr>\n",
       "      <th>8</th>\n",
       "      <td>POINT (-73.94979 40.80465)</td>\n",
       "      <td>1</td>\n",
       "      <td>0.220261</td>\n",
       "    </tr>\n",
       "    <tr>\n",
       "      <th>9</th>\n",
       "      <td>POINT (-73.94973 40.80462)</td>\n",
       "      <td>4</td>\n",
       "      <td>0.293061</td>\n",
       "    </tr>\n",
       "    <tr>\n",
       "      <th>10</th>\n",
       "      <td>POINT (-73.94993 40.80471)</td>\n",
       "      <td>1</td>\n",
       "      <td>0.464282</td>\n",
       "    </tr>\n",
       "    <tr>\n",
       "      <th>13</th>\n",
       "      <td>POINT (-73.94916 40.80438)</td>\n",
       "      <td>1</td>\n",
       "      <td>0.414272</td>\n",
       "    </tr>\n",
       "    <tr>\n",
       "      <th>...</th>\n",
       "      <td>...</td>\n",
       "      <td>...</td>\n",
       "      <td>...</td>\n",
       "    </tr>\n",
       "    <tr>\n",
       "      <th>85771</th>\n",
       "      <td>POINT (-73.90318 40.66614)</td>\n",
       "      <td>1</td>\n",
       "      <td>0.367431</td>\n",
       "    </tr>\n",
       "    <tr>\n",
       "      <th>85788</th>\n",
       "      <td>POINT (-73.88648 40.65577)</td>\n",
       "      <td>1</td>\n",
       "      <td>0.542233</td>\n",
       "    </tr>\n",
       "    <tr>\n",
       "      <th>85789</th>\n",
       "      <td>POINT (-73.88751 40.65815)</td>\n",
       "      <td>2</td>\n",
       "      <td>0.232292</td>\n",
       "    </tr>\n",
       "    <tr>\n",
       "      <th>85790</th>\n",
       "      <td>POINT (-73.88742 40.65818)</td>\n",
       "      <td>2</td>\n",
       "      <td>0.452200</td>\n",
       "    </tr>\n",
       "    <tr>\n",
       "      <th>85791</th>\n",
       "      <td>POINT (-73.89025 40.65503)</td>\n",
       "      <td>1</td>\n",
       "      <td>0.202042</td>\n",
       "    </tr>\n",
       "  </tbody>\n",
       "</table>\n",
       "<p>56049 rows × 3 columns</p>\n",
       "</div>"
      ],
      "text/plain": [
       "                         geometry subclass      NDVI\n",
       "4      POINT (-73.95038 40.80490)        2  0.227972\n",
       "8      POINT (-73.94979 40.80465)        1  0.220261\n",
       "9      POINT (-73.94973 40.80462)        4  0.293061\n",
       "10     POINT (-73.94993 40.80471)        1  0.464282\n",
       "13     POINT (-73.94916 40.80438)        1  0.414272\n",
       "...                           ...      ...       ...\n",
       "85771  POINT (-73.90318 40.66614)        1  0.367431\n",
       "85788  POINT (-73.88648 40.65577)        1  0.542233\n",
       "85789  POINT (-73.88751 40.65815)        2  0.232292\n",
       "85790  POINT (-73.88742 40.65818)        2  0.452200\n",
       "85791  POINT (-73.89025 40.65503)        1  0.202042\n",
       "\n",
       "[56049 rows x 3 columns]"
      ]
     },
     "execution_count": 183,
     "metadata": {},
     "output_type": "execute_result"
    }
   ],
   "source": [
    "tp = tpall.drop(tpall[tpall['NDVI']<0.2].index)\n",
    "tp"
   ]
  },
  {
   "cell_type": "code",
   "execution_count": 41,
   "id": "a96f6e66",
   "metadata": {},
   "outputs": [],
   "source": [
    "\n",
    "        "
   ]
  },
  {
   "cell_type": "code",
   "execution_count": 42,
   "id": "cfb8c5a6",
   "metadata": {},
   "outputs": [],
   "source": []
  },
  {
   "cell_type": "code",
   "execution_count": null,
   "id": "bdd4f026",
   "metadata": {},
   "outputs": [],
   "source": [
    "NDVI_file = '../KOMPSAT 위성영상/데이터 전처리/4. data/br/NDVI.tif'\n",
    "NDVI_src = rasterio.open(NDVI_file) # 파일 읽기\n",
    "gdf[Path(NDVI_file).stem] = [x for x in NDVI_src.sample(coord_list)] # 포인트 샘플링\n",
    "gdf[Path(NDVI_file).stem] = gdf[Path(NDVI_file).stem].astype('float64')\n",
    "gdf.head()"
   ]
  },
  {
   "cell_type": "code",
   "execution_count": null,
   "id": "cc6877d3",
   "metadata": {},
   "outputs": [],
   "source": []
  },
  {
   "cell_type": "code",
   "execution_count": 46,
   "id": "f6e64674",
   "metadata": {},
   "outputs": [],
   "source": []
  },
  {
   "cell_type": "code",
   "execution_count": null,
   "id": "814e2170",
   "metadata": {},
   "outputs": [],
   "source": [
    "# ndvi 0.2 이하 point 제거\n",
    "# 1. 포인트샘플링, 2. 제거"
   ]
  },
  {
   "cell_type": "code",
   "execution_count": null,
   "id": "521a821f",
   "metadata": {},
   "outputs": [],
   "source": []
  },
  {
   "cell_type": "code",
   "execution_count": 61,
   "id": "048dc205",
   "metadata": {},
   "outputs": [],
   "source": [
    "# NDVI 0.2 이하 point 제거 이후, 3by3 생성\n",
    "def pointsampling(area, file, src, coord_list, feature):\n",
    "    for i in range(0, 9):\n",
    "        WIDTH = 0.00000599299783809013749338974087784241\n",
    "        HEIGHT = 0.0000059299783809007439469768700121737\n",
    "        coord_list0= [(x,y) for x,y in zip(tp02['geometry'].x , tp02['geometry'].y)]\n",
    "        coord_list1= [(x-WIDTH, y+HEIGHT) for x,y in zip(tp02['geometry'].x , tp02['geometry'].y)]\n",
    "        coord_list2= [(x, y+HEIGHT) for x,y in zip(tp02['geometry'].x , tp02['geometry'].y)]\n",
    "        coord_list3= [(x+WIDTH,y+HEIGHT) for x,y in zip(tp02['geometry'].x , tp02['geometry'].y)]\n",
    "        coord_list4= [(x+WIDTH,y) for x,y in zip(tp02['geometry'].x , tp02['geometry'].y)]\n",
    "        coord_list5= [(x+WIDTH,y-HEIGHT) for x,y in zip(tp02['geometry'].x , tp02['geometry'].y)]\n",
    "        coord_list6= [(x,y-HEIGHT) for x,y in zip(tp02['geometry'].x , tp02['geometry'].y)]\n",
    "        coord_list7= [(x-WIDTH,y-HEIGHT) for x,y in zip(tp02['geometry'].x , tp02['geometry'].y)]\n",
    "        coord_list8= [(x-WIDTH,y) for x,y in zip(tp02['geometry'].x , tp02['geometry'].y)]\n",
    "        \n",
    "        # 합치는 것만 생각해바\n",
    "        tp02[Path(file).stem] = [x for x in src.sample(coord_list+'i')] # 포인트 샘플링\n",
    "        tp02[feature] = tp02[feature].astype('float64') # 샘플링 값 dtype str to float64\n",
    "        tp02[feature].drop(tp02[feature] == 0.0, inplace=True) # 그.. up, down, br을 합치고 싶은데... 어케할가,,\n",
    "        tp02.rename(columns={feature: feautre+'_'+i}, inplace=True)\n",
    "    tp02.head()\n",
    "    print(len(tp02.index))\n",
    "    return tp02"
   ]
  },
  {
   "cell_type": "code",
   "execution_count": 63,
   "id": "cd6ed7cd",
   "metadata": {},
   "outputs": [
    {
     "ename": "AttributeError",
     "evalue": "'float' object has no attribute 'index'",
     "output_type": "error",
     "traceback": [
      "\u001b[1;31m---------------------------------------------------------------------------\u001b[0m",
      "\u001b[1;31mAttributeError\u001b[0m                            Traceback (most recent call last)",
      "\u001b[1;32m~\\AppData\\Local\\Temp\\ipykernel_11180\\3086401491.py\u001b[0m in \u001b[0;36m<cell line: 1>\u001b[1;34m()\u001b[0m\n\u001b[1;32m----> 1\u001b[1;33m \u001b[0mpointsampling\u001b[0m\u001b[1;33m(\u001b[0m\u001b[0mNDVIup_file\u001b[0m\u001b[1;33m,\u001b[0m \u001b[0mNDVIdown_src\u001b[0m\u001b[1;33m,\u001b[0m \u001b[0mcoord_list\u001b[0m\u001b[1;33m,\u001b[0m \u001b[1;34m\"NDVI\"\u001b[0m\u001b[1;33m)\u001b[0m\u001b[1;33m\u001b[0m\u001b[1;33m\u001b[0m\u001b[0m\n\u001b[0m",
      "\u001b[1;32m~\\AppData\\Local\\Temp\\ipykernel_11180\\1728176364.py\u001b[0m in \u001b[0;36mpointsampling\u001b[1;34m(file, src, coord_list, feature)\u001b[0m\n\u001b[0;32m      3\u001b[0m         \u001b[0mtp\u001b[0m\u001b[1;33m[\u001b[0m\u001b[0mPath\u001b[0m\u001b[1;33m(\u001b[0m\u001b[0mfile\u001b[0m\u001b[1;33m)\u001b[0m\u001b[1;33m.\u001b[0m\u001b[0mstem\u001b[0m\u001b[1;33m]\u001b[0m \u001b[1;33m=\u001b[0m \u001b[1;33m[\u001b[0m\u001b[0mx\u001b[0m \u001b[1;32mfor\u001b[0m \u001b[0mx\u001b[0m \u001b[1;32min\u001b[0m \u001b[0msrc\u001b[0m\u001b[1;33m.\u001b[0m\u001b[0msample\u001b[0m\u001b[1;33m(\u001b[0m\u001b[0mcoord_list\u001b[0m\u001b[1;33m)\u001b[0m\u001b[1;33m]\u001b[0m \u001b[1;31m# 포인트 샘플링\u001b[0m\u001b[1;33m\u001b[0m\u001b[1;33m\u001b[0m\u001b[0m\n\u001b[0;32m      4\u001b[0m         \u001b[0mtp\u001b[0m\u001b[1;33m[\u001b[0m\u001b[0mfeature\u001b[0m\u001b[1;33m]\u001b[0m \u001b[1;33m=\u001b[0m \u001b[0mtp\u001b[0m\u001b[1;33m[\u001b[0m\u001b[0mfeature\u001b[0m\u001b[1;33m]\u001b[0m\u001b[1;33m.\u001b[0m\u001b[0mastype\u001b[0m\u001b[1;33m(\u001b[0m\u001b[1;34m'float64'\u001b[0m\u001b[1;33m)\u001b[0m\u001b[1;33m\u001b[0m\u001b[1;33m\u001b[0m\u001b[0m\n\u001b[1;32m----> 5\u001b[1;33m         \u001b[0mtp\u001b[0m\u001b[1;33m[\u001b[0m\u001b[0mfeature\u001b[0m\u001b[1;33m]\u001b[0m \u001b[1;33m=\u001b[0m \u001b[0mtp\u001b[0m\u001b[1;33m[\u001b[0m\u001b[0mfeature\u001b[0m\u001b[1;33m]\u001b[0m\u001b[1;33m.\u001b[0m\u001b[0mdrop\u001b[0m\u001b[1;33m(\u001b[0m\u001b[0mtp\u001b[0m\u001b[1;33m[\u001b[0m\u001b[0mfeature\u001b[0m\u001b[1;33m]\u001b[0m \u001b[1;33m==\u001b[0m \u001b[1;36m0.0\u001b[0m\u001b[1;33m.\u001b[0m\u001b[0mindex\u001b[0m\u001b[1;33m)\u001b[0m\u001b[1;33m\u001b[0m\u001b[1;33m\u001b[0m\u001b[0m\n\u001b[0m\u001b[0;32m      6\u001b[0m         \u001b[0mtp\u001b[0m\u001b[1;33m.\u001b[0m\u001b[0mrename\u001b[0m\u001b[1;33m(\u001b[0m\u001b[0mcolumns\u001b[0m\u001b[1;33m=\u001b[0m\u001b[1;33m{\u001b[0m\u001b[0mfeature\u001b[0m\u001b[1;33m:\u001b[0m \u001b[0mfeautre\u001b[0m\u001b[1;33m+\u001b[0m\u001b[1;34m'_'\u001b[0m\u001b[1;33m+\u001b[0m\u001b[0mi\u001b[0m\u001b[1;33m}\u001b[0m\u001b[1;33m,\u001b[0m \u001b[0minplace\u001b[0m\u001b[1;33m=\u001b[0m\u001b[1;32mTrue\u001b[0m\u001b[1;33m)\u001b[0m\u001b[1;33m\u001b[0m\u001b[1;33m\u001b[0m\u001b[0m\n\u001b[0;32m      7\u001b[0m         \u001b[0mtp\u001b[0m\u001b[1;33m.\u001b[0m\u001b[0mhead\u001b[0m\u001b[1;33m(\u001b[0m\u001b[1;33m)\u001b[0m\u001b[1;33m\u001b[0m\u001b[1;33m\u001b[0m\u001b[0m\n",
      "\u001b[1;31mAttributeError\u001b[0m: 'float' object has no attribute 'index'"
     ]
    }
   ],
   "source": [
    "tpup = pointsampling(tp_up, NDVIup_file, NDVIdown_src, coord_list, \"NDVI\")"
   ]
  },
  {
   "cell_type": "code",
   "execution_count": null,
   "id": "e003a48f",
   "metadata": {},
   "outputs": [],
   "source": [
    "ndvi_file = '../KOMPSAT 위성영상/데이터 전처리/4. data/manup2017/NDVI.tif'\n",
    "ndvi_src = rasterio.open(ndvi_file) # 파일 읽기\n",
    "tp[Path(ndvi_file).stem] = [x for x in ndvi_src.sample(coord_list)] # 포인트 샘플링\n",
    "tp[Path(ndvi_file).stem] = tp[Path(ndvi_file).stem].astype('float64')"
   ]
  },
  {
   "cell_type": "code",
   "execution_count": 53,
   "id": "5166c74f",
   "metadata": {},
   "outputs": [
    {
     "data": {
      "text/plain": [
       "0          [0.061114295761074494]\n",
       "1          [-0.06895863107852732]\n",
       "2        [-0.0018042394869449067]\n",
       "3          [0.038802622168380596]\n",
       "4           [0.22797190493318442]\n",
       "                   ...           \n",
       "85794                       [0.0]\n",
       "85795                       [0.0]\n",
       "85796                       [0.0]\n",
       "85797                       [0.0]\n",
       "85798                       [0.0]\n",
       "Name: NDVI, Length: 85799, dtype: object"
      ]
     },
     "execution_count": 53,
     "metadata": {},
     "output_type": "execute_result"
    }
   ],
   "source": [
    "tp[Path(NDVIup_file).stem] = [x for x in NDVIup_src.sample(coord_list)] # 포인트 샘플링\n",
    "#tp[Path(NDVIup_file).stem] = tp[Path(NDVIup_file).stem].astype('float64')\n",
    "tp[Path(NDVIup_file).stem]"
   ]
  },
  {
   "cell_type": "code",
   "execution_count": 54,
   "id": "656848ad",
   "metadata": {},
   "outputs": [
    {
     "data": {
      "text/plain": [
       "0        0.061114\n",
       "1       -0.068959\n",
       "2       -0.001804\n",
       "3        0.038803\n",
       "4        0.227972\n",
       "           ...   \n",
       "85794    0.000000\n",
       "85795    0.000000\n",
       "85796    0.000000\n",
       "85797    0.000000\n",
       "85798    0.000000\n",
       "Name: NDVI, Length: 85799, dtype: float64"
      ]
     },
     "execution_count": 54,
     "metadata": {},
     "output_type": "execute_result"
    }
   ],
   "source": [
    "tp[Path(NDVIup_file).stem] = tp[Path(NDVIup_file).stem].astype('float64')\n",
    "tp[Path(NDVIup_file).stem]"
   ]
  },
  {
   "cell_type": "code",
   "execution_count": 55,
   "id": "79227c82",
   "metadata": {},
   "outputs": [
    {
     "data": {
      "text/plain": [
       "pandas.core.series.Series"
      ]
     },
     "execution_count": 55,
     "metadata": {},
     "output_type": "execute_result"
    }
   ],
   "source": [
    "type(tp[Path(NDVIup_file).stem])"
   ]
  },
  {
   "cell_type": "code",
   "execution_count": null,
   "id": "b30f5e61",
   "metadata": {},
   "outputs": [],
   "source": []
  },
  {
   "cell_type": "code",
   "execution_count": null,
   "id": "eb7d0714",
   "metadata": {},
   "outputs": [],
   "source": []
  }
 ],
 "metadata": {
  "kernelspec": {
   "display_name": "Python 3 (ipykernel)",
   "language": "python",
   "name": "python3"
  },
  "language_info": {
   "codemirror_mode": {
    "name": "ipython",
    "version": 3
   },
   "file_extension": ".py",
   "mimetype": "text/x-python",
   "name": "python",
   "nbconvert_exporter": "python",
   "pygments_lexer": "ipython3",
   "version": "3.8.13"
  }
 },
 "nbformat": 4,
 "nbformat_minor": 5
}
